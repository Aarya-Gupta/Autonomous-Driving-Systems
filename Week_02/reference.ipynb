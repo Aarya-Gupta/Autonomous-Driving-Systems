{
 "cells": [
  {
   "cell_type": "code",
   "execution_count": null,
   "metadata": {},
   "outputs": [],
   "source": [
    "import numpy as np\n",
    "import plotly.express as px\n",
    "import pandas as pd\n",
    "\n",
    "# Parameters\n",
    "current_position = 0.0  # Current x position of the bicycle\n",
    "dt = 0.1  # Time interval\n",
    "mean_change = 0.0  # Mean change in position\n",
    "std_change = 0.5  # Standard deviation of change in position\n",
    "num_samples = 1000  # Number of samples to generate\n",
    "\n",
    "# Generate possible changes in position using Gaussian distribution\n",
    "changes = np.random.normal(mean_change, std_change, num_samples)\n",
    "\n",
    "# Calculate the new positions\n",
    "new_positions = current_position + changes\n",
    "\n",
    "# Create a DataFrame for plotting\n",
    "df = pd.DataFrame({'New Position': new_positions})\n",
    "\n",
    "# Plot the wavefront using Plotly Express\n",
    "fig = px.histogram(df, x='New Position', nbins=50, histnorm='probability density',\n",
    "                   title='Wavefront of Possible Trajectories',\n",
    "                   labels={'New Position': 'Position (x + Δx)'},\n",
    "                   marginal='rug')\n",
    "\n",
    "# Add vertical line for current position\n",
    "fig.add_vline(x=current_position, line_dash=\"dash\", line_color=\"red\", \n",
    "              annotation_text=\"Current Position\", annotation_position=\"top left\")\n",
    "\n",
    "# Show plot\n",
    "fig.show()\n",
    "\n"
   ]
  }
 ],
 "metadata": {
  "kernelspec": {
   "display_name": "Python 3",
   "language": "python",
   "name": "python3"
  },
  "language_info": {
   "codemirror_mode": {
    "name": "ipython",
    "version": 3
   },
   "file_extension": ".py",
   "mimetype": "text/x-python",
   "name": "python",
   "nbconvert_exporter": "python",
   "pygments_lexer": "ipython3",
   "version": "3.11.9"
  }
 },
 "nbformat": 4,
 "nbformat_minor": 2
}
