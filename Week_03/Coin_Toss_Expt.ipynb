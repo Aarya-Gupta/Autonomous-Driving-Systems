{
 "cells": [
  {
   "cell_type": "markdown",
   "metadata": {},
   "source": [
    "Let the probability of Heads (p) coming in the 1st toss be a R.V.. Since, the probability of any event can lie between 0 to 1, hence assuming the distribution of this R.V. to be Uniform (0, 1).\n",
    "This means that p is chosen from Uniform(0,1)."
   ]
  },
  {
   "cell_type": "code",
   "execution_count": null,
   "metadata": {},
   "outputs": [],
   "source": [
    "import numpy as np\n",
    "import matplotlib.pyplot as plt\n",
    "import random\n",
    "import pandas as pd\n",
    "import plotly.express as px"
   ]
  },
  {
   "cell_type": "code",
   "execution_count": null,
   "metadata": {},
   "outputs": [],
   "source": [
    "p = np.random.uniform(0, 1)\n",
    "print(p)"
   ]
  },
  {
   "cell_type": "markdown",
   "metadata": {},
   "source": [
    "Now, with the known value of p; let an event A take place.\n",
    "A : out of n tosses, k are heads; when p is given.\n",
    "Deriving the modified distribution, when the event A has taken place; using bayesian distribution method."
   ]
  },
  {
   "cell_type": "code",
   "execution_count": null,
   "metadata": {},
   "outputs": [],
   "source": [
    "import numpy as np\n",
    "\n",
    "# Original sample data\n",
    "data = np.array([5, 7, 8, 9, 10, 15, 17, 18, 20])\n",
    "\n",
    "# Number of bootstrap resamples\n",
    "num_resamples = 1000\n",
    "\n",
    "# Function to compute the mean of resampled data\n",
    "def bootstrap_resample(data, num_resamples):\n",
    "    n = len(data)\n",
    "    resampled_means = np.empty(num_resamples)\n",
    "    for i in range(num_resamples):\n",
    "        resample = np.random.choice(data, size=n, replace=True)\n",
    "        resampled_means[i] = np.mean(resample)\n",
    "    return resampled_means\n",
    "\n",
    "# Perform bootstrapping\n",
    "resampled_means = bootstrap_resample(data, num_resamples)\n",
    "\n",
    "# Estimate the mean and confidence interval\n",
    "bootstrap_mean = np.mean(resampled_means)\n",
    "confidence_interval = np.percentile(resampled_means, [2.5, 97.5])\n",
    "\n",
    "print(f\"Bootstrap Mean Estimate: {bootstrap_mean}\")\n",
    "print(f\"95% Confidence Interval: {confidence_interval}\")\n",
    "\n",
    "# Plot the distribution of resampled means\n",
    "import matplotlib.pyplot as plt\n",
    "\n",
    "plt.hist(resampled_means, bins=30, edgecolor='k', alpha=0.7)\n",
    "plt.axvline(bootstrap_mean, color='red', linestyle='dashed', linewidth=2, label='Bootstrap Mean')\n",
    "plt.axvline(confidence_interval[0], color='blue', linestyle='dashed', linewidth=2, label='2.5th Percentile')\n",
    "plt.axvline(confidence_interval[1], color='blue', linestyle='dashed', linewidth=2, label='97.5th Percentile')\n",
    "plt.legend()\n",
    "plt.title(\"Bootstrap Resampled Means Distribution\")\n",
    "plt.xlabel(\"Mean\")\n",
    "plt.ylabel(\"Frequency\")\n",
    "plt.show()\n"
   ]
  }
 ],
 "metadata": {
  "kernelspec": {
   "display_name": "Python 3",
   "language": "python",
   "name": "python3"
  },
  "language_info": {
   "codemirror_mode": {
    "name": "ipython",
    "version": 3
   },
   "file_extension": ".py",
   "mimetype": "text/x-python",
   "name": "python",
   "nbconvert_exporter": "python",
   "pygments_lexer": "ipython3",
   "version": "3.11.9"
  }
 },
 "nbformat": 4,
 "nbformat_minor": 2
}
